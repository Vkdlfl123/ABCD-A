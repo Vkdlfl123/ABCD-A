{
  "nbformat": 4,
  "nbformat_minor": 0,
  "metadata": {
    "colab": {
      "provenance": [],
      "authorship_tag": "ABX9TyPFhI+QswSh+bwX54eaoXO3",
      "include_colab_link": true
    },
    "kernelspec": {
      "name": "python3",
      "display_name": "Python 3"
    },
    "language_info": {
      "name": "python"
    }
  },
  "cells": [
    {
      "cell_type": "markdown",
      "metadata": {
        "id": "view-in-github",
        "colab_type": "text"
      },
      "source": [
        "<a href=\"https://colab.research.google.com/github/Vkdlfl123/ABCD-A/blob/main/3%EC%9E%A5%20%EA%B1%B4%EB%AC%BC%20%EC%98%A5%EC%83%81%EC%97%90%EC%84%9C%20%EC%88%98%ED%8F%89%EC%9C%BC%EB%A1%9C%20%EB%8D%98%EC%A7%84%20%EA%B3%B5%EC%9D%98%20%EC%9A%B4%EB%8F%99%20%ED%8C%8C%EC%9D%B4%EC%8D%AC%20%EB%AC%B8%EC%A0%9C%20%ED%92%80%EC%9D%B4%EA%B8%B0.ipynb\" target=\"_parent\"><img src=\"https://colab.research.google.com/assets/colab-badge.svg\" alt=\"Open In Colab\"/></a>"
      ]
    },
    {
      "cell_type": "code",
      "execution_count": 5,
      "metadata": {
        "colab": {
          "base_uri": "https://localhost:8080/"
        },
        "id": "i7ttJm3fIIVK",
        "outputId": "22f3d3e7-cb2e-4b8d-9855-0702f06c299c"
      },
      "outputs": [
        {
          "output_type": "stream",
          "name": "stdout",
          "text": [
            "공이 떨어지기까지 걸린 시간 (초)을 입력하세요 (예: 2): 4\n",
            "수평 거리 (m)를 입력하세요 (예: 20): 523\n",
            "\n",
            "[결과]\n",
            "a) 공의 처음 속도 크기: 130.75 m/s\n",
            "b) 건물 높이: 78.48 m\n",
            "c) 충돌 순간 속도 크기: 136.51 m/s\n",
            "   충돌 순간 속도 방향 (수평선과 이루는 각도): 16.71도\n"
          ]
        }
      ],
      "source": [
        "import math\n",
        "\n",
        "t = float(input(\"공이 떨어지기까지 걸린 시간 (초)을 입력하세요 (예: 2): \"))\n",
        "x = float(input(\"수평 거리 (m)를 입력하세요 (예: 20): \"))\n",
        "2\n",
        "g = 9.81\n",
        "v0 = x / t\n",
        "\n",
        "y = 0.5 * g * t**2\n",
        "\n",
        "vx = v0\n",
        "vy = g * t\n",
        "\n",
        "v = math.sqrt(vx**2 + vy**2)\n",
        "\n",
        "theta_rad = math.atan(vy / vx)\n",
        "theta_deg = math.degrees(theta_rad)\n",
        "\n",
        "print(\"\\n[결과]\")\n",
        "print(f\"a) 공의 처음 속도 크기: {v0:.2f} m/s\")\n",
        "print(f\"b) 건물 높이: {y:.2f} m\")\n",
        "print(f\"c) 충돌 순간 속도 크기: {v:.2f} m/s\")\n",
        "print(f\"   충돌 순간 속도 방향 (수평선과 이루는 각도): {theta_deg:.2f}도\")"
      ]
    }
  ]
}