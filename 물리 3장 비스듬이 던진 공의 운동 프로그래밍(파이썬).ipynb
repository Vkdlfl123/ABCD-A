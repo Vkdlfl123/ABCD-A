{
  "nbformat": 4,
  "nbformat_minor": 0,
  "metadata": {
    "colab": {
      "provenance": [],
      "authorship_tag": "ABX9TyMtOuAXW3vCNgOR0AP0ql0r",
      "include_colab_link": true
    },
    "kernelspec": {
      "name": "python3",
      "display_name": "Python 3"
    },
    "language_info": {
      "name": "python"
    }
  },
  "cells": [
    {
      "cell_type": "markdown",
      "metadata": {
        "id": "view-in-github",
        "colab_type": "text"
      },
      "source": [
        "<a href=\"https://colab.research.google.com/github/Vkdlfl123/ABCD-A/blob/20250314/%EB%AC%BC%EB%A6%AC%203%EC%9E%A5%20%EB%B9%84%EC%8A%A4%EB%93%AC%EC%9D%B4%20%EB%8D%98%EC%A7%84%20%EA%B3%B5%EC%9D%98%20%EC%9A%B4%EB%8F%99%20%ED%94%84%EB%A1%9C%EA%B7%B8%EB%9E%98%EB%B0%8D(%ED%8C%8C%EC%9D%B4%EC%8D%AC).ipynb\" target=\"_parent\"><img src=\"https://colab.research.google.com/assets/colab-badge.svg\" alt=\"Open In Colab\"/></a>"
      ]
    },
    {
      "cell_type": "code",
      "execution_count": null,
      "metadata": {
        "colab": {
          "base_uri": "https://localhost:8080/"
        },
        "id": "DgiB0u9pPSKe",
        "outputId": "bae72386-e904-4ad1-839b-478491fb7d92"
      },
      "outputs": [
        {
          "output_type": "stream",
          "name": "stdout",
          "text": [
            "(a) 지면에 도달할 때까지의 시간: -2.00초\n",
            "(b) 수평 거리 X: -159.76m\n",
            "(c) 수평 속도 성분: 79.86 m/s\n",
            "(c) 수직 속도 성분: 79.79 m/s\n",
            "(d) 속도의 크기: 112.89 m/s\n",
            "(e) 속도벡터와 수평선 사이의 각도: 44.97°\n"
          ]
        }
      ],
      "source": [
        "import math\n",
        "\n",
        "# 초기 조건\n",
        "y0 = 140  # 건물의 높이 (m)\n",
        "v0 = 100  # 초기 속도 (m/s)\n",
        "theta = math.radians(37)  # 각도 (rad)\n",
        "g = 9.8  # 중력 가속도 (m/s^2)\n",
        "\n",
        "# (a) 지면에 도달할 때까지의 시간 계산\n",
        "a = -0.5 * g\n",
        "b = v0 * math.sin(theta)\n",
        "c = y0\n",
        "t = (-b + math.sqrt(b**2 - 4*a*c)) / (2*a)\n",
        "print(f\"(a) 지면에 도달할 때까지의 시간: {t:.2f}초\")\n",
        "\n",
        "# (b) 수평 거리 X 계산\n",
        "vx = v0 * math.cos(theta)\n",
        "x = vx * t\n",
        "print(f\"(b) 수평 거리 X: {x:.2f}m\")\n",
        "\n",
        "# (c) 충돌 직전 속도의 수평/수직 성분 계산\n",
        "vy = v0 * math.sin(theta) - g * t\n",
        "print(f\"(c) 수평 속도 성분: {vx:.2f} m/s\")\n",
        "print(f\"(c) 수직 속도 성분: {vy:.2f} m/s\")\n",
        "\n",
        "# (d) 속도의 크기 계산\n",
        "v = math.sqrt(vx**2 + vy**2)\n",
        "print(f\"(d) 속도의 크기: {v:.2f} m/s\")\n",
        "\n",
        "# (e) 속도벡터와 수평선 사이의 각도 계산\n",
        "angle = math.degrees(math.atan2(vy, vx))\n",
        "print(f\"(e) 속도벡터와 수평선 사이의 각도: {angle:.2f}°\")"
      ]
    }
  ]
}